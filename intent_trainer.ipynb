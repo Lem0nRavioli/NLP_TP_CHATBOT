{
 "cells": [
  {
   "cell_type": "code",
   "execution_count": null,
   "id": "1bf20e27",
   "metadata": {},
   "outputs": [
    {
     "data": {
      "text/plain": [
       "['ticket_classifier_api/model/label_encoder.pkl']"
      ]
     },
     "execution_count": 12,
     "metadata": {},
     "output_type": "execute_result"
    }
   ],
   "source": [
    "import json\n",
    "from sklearn.feature_extraction.text import TfidfVectorizer\n",
    "from sklearn.linear_model import LogisticRegression\n",
    "from sklearn.pipeline import Pipeline\n",
    "from sklearn.preprocessing import LabelEncoder\n",
    "import joblib\n",
    "from ticket_classifier_api.utils import clean_text\n",
    "\n",
    "# load intents\n",
    "with open(\"ticket_classifier_api/intents.json\") as f:\n",
    "    data = json.load(f)[\"intents\"]\n",
    "\n",
    "X_raw, y = [], []\n",
    "\n",
    "for intent in data:\n",
    "    for pattern in intent[\"patterns\"]:\n",
    "        X_raw.append(pattern)\n",
    "        y.append(intent[\"tag\"])\n",
    "\n",
    "# clean input\n",
    "X = [clean_text(text) for text in X_raw]\n",
    "\n",
    "# encode labels\n",
    "encoder = LabelEncoder()\n",
    "y_encoded = encoder.fit_transform(y)\n",
    "\n",
    "# build pipeline\n",
    "model = Pipeline([\n",
    "    (\"tfidf\", TfidfVectorizer(max_features=5000)),\n",
    "    (\"clf\", LogisticRegression(max_iter=1000))\n",
    "])\n",
    "\n",
    "# train model\n",
    "model.fit(X, y_encoded)\n",
    "\n",
    "# save model and encoder\n",
    "joblib.dump(model, \"ticket_classifier_api/model/chatbot_model.pkl\")\n",
    "joblib.dump(encoder, \"ticket_classifier_api/model/label_encoder.pkl\")\n"
   ]
  },
  {
   "cell_type": "code",
   "execution_count": 15,
   "id": "e1d28495",
   "metadata": {},
   "outputs": [
    {
     "name": "stdout",
     "output_type": "stream",
     "text": [
      "               precision    recall  f1-score   support\n",
      "\n",
      "create_ticket       1.00      1.00      1.00        10\n",
      "delete_ticket       1.00      1.00      1.00        10\n",
      "   get_status       1.00      1.00      1.00        10\n",
      "\n",
      "     accuracy                           1.00        30\n",
      "    macro avg       1.00      1.00      1.00        30\n",
      " weighted avg       1.00      1.00      1.00        30\n",
      "\n",
      "\n",
      " confusion matrix:\n",
      "[[10  0  0]\n",
      " [ 0 10  0]\n",
      " [ 0  0 10]]\n",
      "\n",
      " training accuracy: 100.00%\n"
     ]
    }
   ],
   "source": [
    "from sklearn.metrics import classification_report, confusion_matrix\n",
    "import numpy as np\n",
    "\n",
    "y_pred = model.predict(X)\n",
    "print(classification_report(y_encoded, y_pred, target_names=encoder.classes_))\n",
    "\n",
    "print(\"\\n confusion matrix:\")\n",
    "print(confusion_matrix(y_encoded, y_pred))\n",
    "\n",
    "accuracy = np.mean(y_encoded == y_pred)\n",
    "print(f\"\\n training accuracy: {accuracy:.2%}\")\n"
   ]
  }
 ],
 "metadata": {
  "kernelspec": {
   "display_name": "base",
   "language": "python",
   "name": "python3"
  },
  "language_info": {
   "codemirror_mode": {
    "name": "ipython",
    "version": 3
   },
   "file_extension": ".py",
   "mimetype": "text/x-python",
   "name": "python",
   "nbconvert_exporter": "python",
   "pygments_lexer": "ipython3",
   "version": "3.12.7"
  }
 },
 "nbformat": 4,
 "nbformat_minor": 5
}
